{
 "cells": [
  {
   "cell_type": "code",
   "execution_count": 1,
   "id": "4eb428b4-96b7-4095-9d8e-2521a9e5e3a9",
   "metadata": {},
   "outputs": [],
   "source": [
    "import numpy as np\n",
    "# np is called alias which basically means short form"
   ]
  },
  {
   "cell_type": "raw",
   "id": "8ccf7754-060e-44ea-9249-efa169d7d965",
   "metadata": {},
   "source": [
    "what is a matrix for computer?\n",
    "for computers , a matrix is a bunch of rows"
   ]
  },
  {
   "cell_type": "raw",
   "id": "ae72a835-a557-426c-a71b-c6bbfb63f804",
   "metadata": {},
   "source": [
    "in regular linear algebra when we say \n",
    "5x 4y 6 \n",
    "2x 5y 6 \n",
    "2x 5y 7 \n",
    "3x 4y 6 \n",
    "\n",
    "it means number of rows = number of vectors(here 4 vectors) they have and the columns means the number of dimensions it have so 5 4 6 means 5x 4y 6z (3 dimensions)\n",
    "\n",
    "but in numpy it means a data sheet with rows and columns and another dimension is not another perpendicular walk in space but another datasheet on top of each other the image below will help you understand it better, and rows there means vectors and the columns are their features\n",
    "\n",
    "see the untitled png in the folder"
   ]
  },
  {
   "cell_type": "code",
   "execution_count": 7,
   "id": "10fbf49d-a067-47f4-9dff-3906716ecba6",
   "metadata": {},
   "outputs": [
    {
     "data": {
      "text/plain": [
       "array([1, 2, 3, 4, 5])"
      ]
     },
     "execution_count": 7,
     "metadata": {},
     "output_type": "execute_result"
    }
   ],
   "source": [
    "np.array([1,2,3,4,5])    \n",
    "# syntax = np.array(paas the list in third bracket)\n",
    "# 1d array"
   ]
  },
  {
   "cell_type": "code",
   "execution_count": 8,
   "id": "b8367283-1e93-44b2-9446-4463a5981576",
   "metadata": {},
   "outputs": [
    {
     "data": {
      "text/plain": [
       "array([[ 1,  3,  4],\n",
       "       [ 4, 42,  2]])"
      ]
     },
     "execution_count": 8,
     "metadata": {},
     "output_type": "execute_result"
    }
   ],
   "source": [
    "np.array([[1,3,4],[4,42,2]])\n",
    "# syntax = np.array([in this master thrid bracket pass 2 list which they themself are in their third brackets])\n",
    "# 2d array"
   ]
  },
  {
   "cell_type": "code",
   "execution_count": 143,
   "id": "6b03dcfb-c5b2-47b3-bc93-d62f07b2e09b",
   "metadata": {},
   "outputs": [
    {
     "data": {
      "text/plain": [
       "array([[  1,   2,   3,   4],\n",
       "       [  4,   3,   2,   1],\n",
       "       [123, 123, 243, 342]])"
      ]
     },
     "execution_count": 143,
     "metadata": {},
     "output_type": "execute_result"
    }
   ],
   "source": [
    "np.array([[1,2,3,4],[4,3,2,1],[123,123,243,342]])\n",
    "# 3d array"
   ]
  },
  {
   "cell_type": "code",
   "execution_count": 23,
   "id": "a229767c-ef3e-49c3-b2c9-56a937883ccb",
   "metadata": {},
   "outputs": [],
   "source": [
    "# 5,6 matrix\n",
    "a = np.random.randint(30, size = (5,6))\n",
    "# this is a matrix of 2 dimensions which has elements of random integers, from 0 to 30, with 5 rows and 6 columns.\n",
    "aa = np.random.randint(low = 10, high = 50)\n",
    "# we can even choose random numbers from say 10 to 50 just we have to give a tuple to the arguments low and high and make the matrix as needed\n",
    "# number of third brackets = number of dimensions"
   ]
  },
  {
   "cell_type": "code",
   "execution_count": 152,
   "id": "e64e31c8-87e9-4871-901b-b136c35ebf33",
   "metadata": {},
   "outputs": [
    {
     "data": {
      "text/plain": [
       "33"
      ]
     },
     "execution_count": 152,
     "metadata": {},
     "output_type": "execute_result"
    }
   ],
   "source": [
    "aa"
   ]
  },
  {
   "cell_type": "code",
   "execution_count": 24,
   "id": "164c07ba-90b3-4a25-bd32-332cdd17cbd6",
   "metadata": {},
   "outputs": [
    {
     "data": {
      "text/plain": [
       "array([[ 5,  9, 28,  2, 13,  9],\n",
       "       [ 6,  3, 27, 23,  8, 15],\n",
       "       [ 3,  8, 12, 12, 18, 20],\n",
       "       [ 8, 10,  6,  5, 15, 24],\n",
       "       [24, 19, 14, 21,  6,  2]])"
      ]
     },
     "execution_count": 24,
     "metadata": {},
     "output_type": "execute_result"
    }
   ],
   "source": [
    "a"
   ]
  },
  {
   "cell_type": "code",
   "execution_count": 154,
   "id": "a7ccf28f-78dd-48fd-8ada-9d30143bec6b",
   "metadata": {},
   "outputs": [
    {
     "data": {
      "text/plain": [
       "30"
      ]
     },
     "execution_count": 154,
     "metadata": {},
     "output_type": "execute_result"
    }
   ],
   "source": [
    "a.size\n",
    "# size = cardinality of elements or number of elements"
   ]
  },
  {
   "cell_type": "code",
   "execution_count": 155,
   "id": "a8cc0f5d-0b12-439c-8df0-5b795b881fc3",
   "metadata": {},
   "outputs": [
    {
     "data": {
      "text/plain": [
       "(5, 6)"
      ]
     },
     "execution_count": 155,
     "metadata": {},
     "output_type": "execute_result"
    }
   ],
   "source": [
    "a.shape\n",
    "# number of rows and columns of two dimensional array"
   ]
  },
  {
   "cell_type": "code",
   "execution_count": 156,
   "id": "3697583a-4cf1-4d04-a3c9-c8724bd29c4a",
   "metadata": {},
   "outputs": [],
   "source": [
    "arr = np.array([np.random.randint(30, size = (5,6))])"
   ]
  },
  {
   "cell_type": "code",
   "execution_count": 157,
   "id": "868f1df0-b0fd-49b6-8575-cec15f13dd8c",
   "metadata": {},
   "outputs": [
    {
     "data": {
      "text/plain": [
       "array([[[10, 15,  9, 25, 26, 18],\n",
       "        [26, 11, 21,  4, 25,  5],\n",
       "        [23,  5, 29,  8, 21, 10],\n",
       "        [ 6,  8, 21,  4, 25, 16],\n",
       "        [19, 26, 24, 16,  8, 13]]])"
      ]
     },
     "execution_count": 157,
     "metadata": {},
     "output_type": "execute_result"
    }
   ],
   "source": [
    "arr"
   ]
  },
  {
   "cell_type": "code",
   "execution_count": 158,
   "id": "2e4b40fe-3dcb-4889-9677-60f65de71955",
   "metadata": {},
   "outputs": [
    {
     "data": {
      "text/plain": [
       "30"
      ]
     },
     "execution_count": 158,
     "metadata": {},
     "output_type": "execute_result"
    }
   ],
   "source": [
    "arr.size"
   ]
  },
  {
   "cell_type": "code",
   "execution_count": 159,
   "id": "5d07bc01-0eae-46da-b435-75135bdb93d5",
   "metadata": {},
   "outputs": [
    {
     "data": {
      "text/plain": [
       "(1, 5, 6)"
      ]
     },
     "execution_count": 159,
     "metadata": {},
     "output_type": "execute_result"
    }
   ],
   "source": [
    "arr.shape\n",
    "\n",
    "# this is number of arrays in 3 dimensional matrix space where this a 5 by 6 array and there are three dimension or 3 data sheets each with shape 5 by 6 \n",
    "# just that other two datasheets under it are empty"
   ]
  },
  {
   "cell_type": "code",
   "execution_count": 112,
   "id": "f9c212a2-bb46-4a9b-8cb2-fc83c864274d",
   "metadata": {},
   "outputs": [
    {
     "ename": "NameError",
     "evalue": "name 'arr' is not defined",
     "output_type": "error",
     "traceback": [
      "\u001b[1;31m---------------------------------------------------------------------------\u001b[0m",
      "\u001b[1;31mNameError\u001b[0m                                 Traceback (most recent call last)",
      "Cell \u001b[1;32mIn[112], line 2\u001b[0m\n\u001b[0;32m      1\u001b[0m shape \u001b[38;5;241m=\u001b[39m (\u001b[38;5;241m2\u001b[39m,\u001b[38;5;241m5\u001b[39m,\u001b[38;5;241m6\u001b[39m)\n\u001b[1;32m----> 2\u001b[0m full \u001b[38;5;241m=\u001b[39m np\u001b[38;5;241m.\u001b[39mfull(shape, \u001b[43marr\u001b[49m)\n\u001b[0;32m      4\u001b[0m \u001b[38;5;66;03m# this is broadcasting\u001b[39;00m\n",
      "\u001b[1;31mNameError\u001b[0m: name 'arr' is not defined"
     ]
    }
   ],
   "source": [
    "shape = (2,5,6)\n",
    "full = np.full(shape, arr)\n",
    "\n",
    "# this is broadcasting"
   ]
  },
  {
   "cell_type": "code",
   "execution_count": 162,
   "id": "829ba202-4f0d-458f-840e-21c15f8ad2e3",
   "metadata": {},
   "outputs": [
    {
     "data": {
      "text/plain": [
       "array([[[10, 15,  9, 25, 26, 18],\n",
       "        [26, 11, 21,  4, 25,  5],\n",
       "        [23,  5, 29,  8, 21, 10],\n",
       "        [ 6,  8, 21,  4, 25, 16],\n",
       "        [19, 26, 24, 16,  8, 13]],\n",
       "\n",
       "       [[10, 15,  9, 25, 26, 18],\n",
       "        [26, 11, 21,  4, 25,  5],\n",
       "        [23,  5, 29,  8, 21, 10],\n",
       "        [ 6,  8, 21,  4, 25, 16],\n",
       "        [19, 26, 24, 16,  8, 13]]])"
      ]
     },
     "execution_count": 162,
     "metadata": {},
     "output_type": "execute_result"
    }
   ],
   "source": [
    "full\n",
    "\n",
    "# this means that there are two data sheets hence 2 dimensions stacked on top of each other, also there is no need to \n",
    "# define shape as an another varaible you can directly write the tuple instead of full function\n",
    "# `arr` has shape (1,5,6), meaning it has an extra first dimension.\n",
    "# When we use np.full((2,5,6), arr), NumPy **broadcasts** `arr` along the first axis.\n",
    "# This results in two identical copies of `arr`, effectively \"stacking\" them.\n",
    "# If `arr` had shape (5,6) instead of (1,5,6), this would have raised an error."
   ]
  },
  {
   "cell_type": "code",
   "execution_count": 35,
   "id": "e6fb352f-9c9c-4f42-96ba-59b4091cfb1a",
   "metadata": {},
   "outputs": [
    {
     "data": {
      "text/plain": [
       "dtype('int32')"
      ]
     },
     "execution_count": 35,
     "metadata": {},
     "output_type": "execute_result"
    }
   ],
   "source": [
    "a.dtype\n",
    "\n",
    "# by default all arrays are saved in int 32"
   ]
  },
  {
   "cell_type": "code",
   "execution_count": 51,
   "id": "0ed113c6-06af-44ab-ba90-4c0c33d83cb0",
   "metadata": {},
   "outputs": [],
   "source": [
    "exp = np.random.randint(29, size = (5,6))"
   ]
  },
  {
   "cell_type": "code",
   "execution_count": 56,
   "id": "28ba702a-7bdb-4669-a0f8-289992777f6b",
   "metadata": {},
   "outputs": [],
   "source": [
    "exp.dtype = np.float32"
   ]
  },
  {
   "cell_type": "code",
   "execution_count": 57,
   "id": "c4345e61-f47c-4739-adeb-838954eb925a",
   "metadata": {},
   "outputs": [
    {
     "data": {
      "text/plain": [
       "dtype('float32')"
      ]
     },
     "execution_count": 57,
     "metadata": {},
     "output_type": "execute_result"
    }
   ],
   "source": [
    "exp.dtype"
   ]
  },
  {
   "cell_type": "code",
   "execution_count": 40,
   "id": "a738743c-daf9-4493-82ea-61313a0eb366",
   "metadata": {},
   "outputs": [],
   "source": [
    "emparr = np.empty((2,3,3), dtype = np.int16)"
   ]
  },
  {
   "cell_type": "code",
   "execution_count": 41,
   "id": "dc661166-fca5-4c9c-9939-1b29eb8460fc",
   "metadata": {},
   "outputs": [
    {
     "data": {
      "text/plain": [
       "array([[[     0,      0,      0],\n",
       "        [     0, -13216,  12112],\n",
       "        [   481,      0, -15456]],\n",
       "\n",
       "       [[ 12112,    481,      0],\n",
       "        [-13376,  12112,    481],\n",
       "        [     0,    111,    118]]], dtype=int16)"
      ]
     },
     "execution_count": 41,
     "metadata": {},
     "output_type": "execute_result"
    }
   ],
   "source": [
    "emparr\n",
    "\n",
    "# this is another way to make any matrix with preffered data type"
   ]
  },
  {
   "cell_type": "code",
   "execution_count": 42,
   "id": "ee0eb3b0-ff25-4b02-a4a9-9975bcc6b332",
   "metadata": {},
   "outputs": [
    {
     "data": {
      "text/plain": [
       "dtype('int16')"
      ]
     },
     "execution_count": 42,
     "metadata": {},
     "output_type": "execute_result"
    }
   ],
   "source": [
    "emparr.dtype"
   ]
  },
  {
   "cell_type": "code",
   "execution_count": 89,
   "id": "e9743892-7606-43ca-9ab6-187116b783eb",
   "metadata": {},
   "outputs": [
    {
     "data": {
      "text/plain": [
       "array([[[27, 18, 27, 11, 24,  4],\n",
       "        [ 0,  7, 23, 23,  7, 16],\n",
       "        [26,  6, 24,  0,  9, 12],\n",
       "        [28,  9, 14, 21,  8, 29],\n",
       "        [ 4,  6,  0, 16, 27, 22]]], dtype=int64)"
      ]
     },
     "execution_count": 89,
     "metadata": {},
     "output_type": "execute_result"
    }
   ],
   "source": [
    "arr.astype(np.int64)\n",
    "\n",
    "# name of array . astype (numpy . int/float 2,4,8,16,32,64....)"
   ]
  },
  {
   "cell_type": "code",
   "execution_count": 95,
   "id": "620736a0-8b9b-4d13-b197-935839262c69",
   "metadata": {},
   "outputs": [],
   "source": [
    "arr.dtype = np.int64"
   ]
  },
  {
   "cell_type": "code",
   "execution_count": 96,
   "id": "0052c4a1-a114-4100-88be-9cee791aa72b",
   "metadata": {},
   "outputs": [
    {
     "data": {
      "text/plain": [
       "dtype('int64')"
      ]
     },
     "execution_count": 96,
     "metadata": {},
     "output_type": "execute_result"
    }
   ],
   "source": [
    "arr.dtype"
   ]
  },
  {
   "cell_type": "code",
   "execution_count": null,
   "id": "81a84ac1-46bd-49dd-af58-df2fa23db836",
   "metadata": {},
   "outputs": [],
   "source": [
    "# two methods to change the data type of the array\n",
    "# to change data type in that cell - as type\n",
    "# to change everywhere - arr.dtype = np.the said data value( could be int/float 2 4 8 16 32 64 128....)"
   ]
  },
  {
   "cell_type": "code",
   "execution_count": 74,
   "id": "668e6996-c947-42b3-8ae3-f900c3a1ce6f",
   "metadata": {},
   "outputs": [],
   "source": [
    "sarr = np.random.randint(36, size=(6,6))"
   ]
  },
  {
   "cell_type": "code",
   "execution_count": 75,
   "id": "79a043ac-9395-4a97-b1b6-c0e4c828fb7d",
   "metadata": {},
   "outputs": [
    {
     "data": {
      "text/plain": [
       "array([[ 2, 11, 22,  2, 23, 32],\n",
       "       [24,  0,  9, 11, 35, 25],\n",
       "       [ 2, 33,  4, 29,  8, 22],\n",
       "       [21, 15, 16, 11, 28,  5],\n",
       "       [16, 28, 19,  8, 34, 22],\n",
       "       [35, 19, 23, 26, 29, 15]])"
      ]
     },
     "execution_count": 75,
     "metadata": {},
     "output_type": "execute_result"
    }
   ],
   "source": [
    "sarr"
   ]
  },
  {
   "cell_type": "code",
   "execution_count": 64,
   "id": "1a37de8d-f6eb-4cab-9d22-201666c6a2da",
   "metadata": {},
   "outputs": [
    {
     "data": {
      "text/plain": [
       "4"
      ]
     },
     "execution_count": 64,
     "metadata": {},
     "output_type": "execute_result"
    }
   ],
   "source": [
    "sarr[4,5]\n",
    "# array name [number of that row, number of that column]\n",
    "# this is indexing"
   ]
  },
  {
   "cell_type": "code",
   "execution_count": 107,
   "id": "7699b592-4987-48ac-aa09-99978c09f38e",
   "metadata": {},
   "outputs": [
    {
     "data": {
      "text/plain": [
       "array([[22,  2, 23],\n",
       "       [ 4, 29,  8],\n",
       "       [19,  8, 34]])"
      ]
     },
     "execution_count": 107,
     "metadata": {},
     "output_type": "execute_result"
    }
   ],
   "source": [
    "sarr[::2, 2:5]\n",
    "# syntax = array [before the comma there is information of range of rows you want to select, and after the comma the information is how many columns you want to select]\n",
    "# simple slicing\n",
    "# general form of slicing = array[start:stop:skip,  start:stop:skip]\n",
    "#                           array[::,::]\n",
    "# this is slicing"
   ]
  },
  {
   "cell_type": "code",
   "execution_count": 87,
   "id": "a9876113-7a41-4a96-98f7-e17885603791",
   "metadata": {},
   "outputs": [],
   "source": [
    "two = sarr[sarr>2]\n",
    "# array[array logical operation \\comparision operation]\n",
    "# name of array[name of that same array | logical opearation]"
   ]
  },
  {
   "cell_type": "code",
   "execution_count": 89,
   "id": "ba3524d6-b7cd-4a2c-87f5-c347648242fc",
   "metadata": {},
   "outputs": [
    {
     "data": {
      "text/plain": [
       "array([32, 35, 33, 29, 28, 28, 34, 35, 26, 29])"
      ]
     },
     "execution_count": 89,
     "metadata": {},
     "output_type": "execute_result"
    }
   ],
   "source": [
    "two"
   ]
  },
  {
   "cell_type": "code",
   "execution_count": 94,
   "id": "5be20a61-2735-404d-9d80-ab1cd2306fe7",
   "metadata": {},
   "outputs": [
    {
     "data": {
      "text/plain": [
       "array([[32, 35],\n",
       "       [33, 29],\n",
       "       [28, 28],\n",
       "       [34, 35],\n",
       "       [26, 29]])"
      ]
     },
     "execution_count": 94,
     "metadata": {},
     "output_type": "execute_result"
    }
   ],
   "source": [
    "two.reshape(5,2)\n",
    "\n",
    "# an array can only be shaped into the multiples of size of that array so here size of 'two' was 22 which means there are \n",
    "# 22 elements in that array and so it can be arranged in shape of 2 rows and 11 columns or 11 rows and 2 columns\n",
    "\n",
    "# similarly for size 40 it can be arranged as 1,40 ; 2,20 ; 4,10 ; 5,8 ; 10,4 and blah blah blah you get it"
   ]
  },
  {
   "cell_type": "code",
   "execution_count": null,
   "id": "c2cd236c-96fc-4655-9a34-302587dde9ca",
   "metadata": {},
   "outputs": [],
   "source": [
    " 2, 11, 22,  2, 23, 32],\n",
    "       [24,  0,  9, 11, 35, 25],\n",
    "       [ 2, 33,  4, 29,  8, 22],\n",
    "       [21, 15, 16, 11, 28,  5],\n",
    "       [16, 28, 19,  8, 34, 22],\n",
    "       [35, 19, 23, 26, 29, 15"
   ]
  },
  {
   "cell_type": "code",
   "execution_count": 97,
   "id": "7028681c-db29-4564-bcee-8def35129cd9",
   "metadata": {},
   "outputs": [
    {
     "data": {
      "text/plain": [
       "array([[ 2,  2],\n",
       "       [ 2, 29],\n",
       "       [16,  8]])"
      ]
     },
     "execution_count": 97,
     "metadata": {},
     "output_type": "execute_result"
    }
   ],
   "source": [
    "sarr[::2, ::3]\n",
    "# this skips every second row and every 3 column"
   ]
  },
  {
   "cell_type": "code",
   "execution_count": 109,
   "id": "cc0c7cd2-30b7-494d-9ebd-c534447135ed",
   "metadata": {},
   "outputs": [],
   "source": [
    "# array [ start : stop : skip]    syntax for "
   ]
  },
  {
   "cell_type": "code",
   "execution_count": 98,
   "id": "799f36a0-1652-4687-bb8e-8e2b1c6aa79e",
   "metadata": {},
   "outputs": [
    {
     "data": {
      "text/plain": [
       "array([[ 2,  2],\n",
       "       [24, 11],\n",
       "       [ 2, 29],\n",
       "       [21, 11],\n",
       "       [16,  8],\n",
       "       [35, 26]])"
      ]
     },
     "execution_count": 98,
     "metadata": {},
     "output_type": "execute_result"
    }
   ],
   "source": [
    "sarr[:,::3]"
   ]
  },
  {
   "cell_type": "code",
   "execution_count": 108,
   "id": "ac8acbc7-8343-4293-a12e-c1b7bad5038f",
   "metadata": {},
   "outputs": [
    {
     "data": {
      "text/plain": [
       "array([[24,  0,  9],\n",
       "       [21, 15, 16],\n",
       "       [35, 19, 23]])"
      ]
     },
     "execution_count": 108,
     "metadata": {},
     "output_type": "execute_result"
    }
   ],
   "source": [
    "sarr[[1,3,5], 0:3]\n",
    "# advanced slicing\n",
    "# this selects row 1 and 3 and 5 with columns from 0 to 3\n",
    "# array[[list of all those rows that we want],range of columns]\n",
    "\n",
    "# bring me students with even roll number and their marks in phys math chem"
   ]
  },
  {
   "cell_type": "code",
   "execution_count": 135,
   "id": "0810f40c-6dfe-439a-8d42-419c6f744ccf",
   "metadata": {},
   "outputs": [
    {
     "data": {
      "text/plain": [
       "array([[ 7, 24, 23],\n",
       "       [ 0, 19, 27],\n",
       "       [24, 30, 33]])"
      ]
     },
     "execution_count": 135,
     "metadata": {},
     "output_type": "execute_result"
    }
   ],
   "source": [
    "sarr[1:4,[1,3,5]]"
   ]
  },
  {
   "cell_type": "code",
   "execution_count": 111,
   "id": "8edb2323-47db-410d-a494-b04f85b2e10f",
   "metadata": {},
   "outputs": [
    {
     "data": {
      "text/plain": [
       "array([ 9, 22, 11])"
      ]
     },
     "execution_count": 111,
     "metadata": {},
     "output_type": "execute_result"
    }
   ],
   "source": [
    "sarr[[1,4,3],[2,5,3]]\n",
    "# this will return r12 and r45"
   ]
  },
  {
   "cell_type": "code",
   "execution_count": 123,
   "id": "ed580069-e90f-47a0-b89c-5d968f3f7680",
   "metadata": {},
   "outputs": [],
   "source": [
    "sarr3 = np.array([np.random.randint(1,10,size=(6,6))])"
   ]
  },
  {
   "cell_type": "code",
   "execution_count": 124,
   "id": "8620f10e-690e-4adf-bf12-d3257ae64bf8",
   "metadata": {},
   "outputs": [
    {
     "data": {
      "text/plain": [
       "array([[[2, 4, 1, 1, 7, 8],\n",
       "        [7, 1, 2, 9, 7, 9],\n",
       "        [2, 3, 1, 5, 7, 4],\n",
       "        [9, 7, 9, 2, 8, 4],\n",
       "        [9, 9, 6, 7, 4, 1],\n",
       "        [6, 8, 6, 3, 1, 9]]])"
      ]
     },
     "execution_count": 124,
     "metadata": {},
     "output_type": "execute_result"
    }
   ],
   "source": [
    "sarr3"
   ]
  },
  {
   "cell_type": "markdown",
   "id": "4c459c51-1706-41f1-93dc-9072fe0b95e4",
   "metadata": {},
   "source": [
    "this the syntax when we have more than 1 dimension"
   ]
  },
  {
   "cell_type": "code",
   "execution_count": 125,
   "id": "2fdacd02-c789-4957-ae5e-d303034a1b36",
   "metadata": {},
   "outputs": [
    {
     "data": {
      "text/plain": [
       "array([[[2, 9, 7],\n",
       "        [1, 5, 7],\n",
       "        [9, 2, 8]]])"
      ]
     },
     "execution_count": 125,
     "metadata": {},
     "output_type": "execute_result"
    }
   ],
   "source": [
    "sarr3[:, 1:4, 2:5]"
   ]
  },
  {
   "cell_type": "code",
   "execution_count": 99,
   "id": "c863855a-ad7f-4f50-b4f2-a67fa84fbc5d",
   "metadata": {},
   "outputs": [],
   "source": [
    "sarr5m = np.array([np.random.randint(9, size = (3,3)) for _ in range(5)])"
   ]
  },
  {
   "cell_type": "code",
   "execution_count": 100,
   "id": "a5a9477f-03bf-4164-85ef-8474f8e9dff7",
   "metadata": {},
   "outputs": [
    {
     "data": {
      "text/plain": [
       "array([[[1, 1, 3],\n",
       "        [2, 0, 5],\n",
       "        [6, 3, 7]],\n",
       "\n",
       "       [[4, 2, 3],\n",
       "        [0, 5, 5],\n",
       "        [5, 0, 4]],\n",
       "\n",
       "       [[7, 3, 2],\n",
       "        [5, 6, 1],\n",
       "        [8, 0, 2]],\n",
       "\n",
       "       [[3, 6, 7],\n",
       "        [1, 0, 2],\n",
       "        [0, 0, 8]],\n",
       "\n",
       "       [[2, 5, 7],\n",
       "        [6, 6, 1],\n",
       "        [6, 3, 0]]])"
      ]
     },
     "execution_count": 100,
     "metadata": {},
     "output_type": "execute_result"
    }
   ],
   "source": [
    "sarr5m"
   ]
  },
  {
   "cell_type": "markdown",
   "id": "ac83ed01-36ad-4ca4-ad5b-e430f52a6c60",
   "metadata": {},
   "source": [
    "this is 5 matrix of size 3 by 3        another way of making multidimensional way array, this is the third way of making multidimensional array, know about it all and use what is instructed"
   ]
  },
  {
   "cell_type": "code",
   "execution_count": 137,
   "id": "45a96b11-d9c2-4798-aead-b22b7661650e",
   "metadata": {},
   "outputs": [
    {
     "data": {
      "text/plain": [
       "6"
      ]
     },
     "execution_count": 137,
     "metadata": {},
     "output_type": "execute_result"
    }
   ],
   "source": [
    "sarr5m[2,1,1]"
   ]
  },
  {
   "cell_type": "code",
   "execution_count": 138,
   "id": "dbf84cae-7dc3-4bbd-b3a2-f58895051418",
   "metadata": {},
   "outputs": [
    {
     "data": {
      "text/plain": [
       "array([[[0]],\n",
       "\n",
       "       [[5]],\n",
       "\n",
       "       [[1]]])"
      ]
     },
     "execution_count": 138,
     "metadata": {},
     "output_type": "execute_result"
    }
   ],
   "source": [
    "sarr5m[1:4, 1:2, 0:1]"
   ]
  },
  {
   "cell_type": "code",
   "execution_count": 128,
   "id": "e6fcda9a-925f-43fa-8ac4-3a2c92e9f130",
   "metadata": {},
   "outputs": [
    {
     "data": {
      "text/plain": [
       "array([ 0,  1,  2,  3,  4,  5,  6,  7,  8,  9, 10, 11, 12, 13, 14, 15, 16,\n",
       "       17, 18, 19, 20, 21])"
      ]
     },
     "execution_count": 128,
     "metadata": {},
     "output_type": "execute_result"
    }
   ],
   "source": [
    "ar = np.arange(22)\n",
    "ar"
   ]
  },
  {
   "cell_type": "code",
   "execution_count": 133,
   "id": "ed77b7c2-c003-4bd0-94f0-e0d6f7a43cba",
   "metadata": {},
   "outputs": [
    {
     "data": {
      "text/plain": [
       "array([[[ 0,  1,  2,  3,  4,  5,  6,  7,  8,  9, 10],\n",
       "        [11, 12, 13, 14, 15, 16, 17, 18, 19, 20, 21]]])"
      ]
     },
     "execution_count": 133,
     "metadata": {},
     "output_type": "execute_result"
    }
   ],
   "source": [
    "ar.reshape(1,2,11)"
   ]
  },
  {
   "cell_type": "code",
   "execution_count": 134,
   "id": "ad9e379d-aaa4-47b0-8cef-7a08f7333243",
   "metadata": {},
   "outputs": [],
   "source": [
    "aarr = np.random.randint(14 , size = (2,7))\n",
    "barr = np.random.randint(14 , size = (2,7))"
   ]
  },
  {
   "cell_type": "markdown",
   "id": "9608d798-ec26-454b-b089-9002ee0dea62",
   "metadata": {},
   "source": [
    "in element wise operation multiple arrays are given in argument then a comparing operator is given element aij and bij are compared then a boolean is returned as provided by logic"
   ]
  },
  {
   "cell_type": "code",
   "execution_count": 135,
   "id": "f38d5a6c-34d8-44c8-a1ba-975e8ab6fd99",
   "metadata": {},
   "outputs": [
    {
     "data": {
      "text/plain": [
       "array([[ 4,  0, 13,  0,  0,  7,  4],\n",
       "       [10,  7,  7,  3, 12, 13,  7]])"
      ]
     },
     "execution_count": 135,
     "metadata": {},
     "output_type": "execute_result"
    }
   ],
   "source": [
    "aarr"
   ]
  },
  {
   "cell_type": "code",
   "execution_count": 136,
   "id": "19a2a509-3443-4a2c-b283-e1f4f4d200f5",
   "metadata": {},
   "outputs": [
    {
     "data": {
      "text/plain": [
       "array([[ 3,  3,  4,  9,  6,  2,  9],\n",
       "       [ 2,  3,  3, 12,  3, 12, 13]])"
      ]
     },
     "execution_count": 136,
     "metadata": {},
     "output_type": "execute_result"
    }
   ],
   "source": [
    "barr"
   ]
  },
  {
   "cell_type": "code",
   "execution_count": 137,
   "id": "1761dcef-271e-44be-a021-0dea85731d2f",
   "metadata": {},
   "outputs": [
    {
     "data": {
      "text/plain": [
       "array([[ True, False,  True, False, False,  True, False],\n",
       "       [ True,  True,  True, False,  True,  True, False]])"
      ]
     },
     "execution_count": 137,
     "metadata": {},
     "output_type": "execute_result"
    }
   ],
   "source": [
    "(aarr > barr)"
   ]
  },
  {
   "cell_type": "code",
   "execution_count": 138,
   "id": "32181105-dc8a-486d-8621-b0c354bea81f",
   "metadata": {},
   "outputs": [
    {
     "data": {
      "text/plain": [
       "array([[False, False, False, False, False, False, False],\n",
       "       [False, False, False, False, False, False, False]])"
      ]
     },
     "execution_count": 138,
     "metadata": {},
     "output_type": "execute_result"
    }
   ],
   "source": [
    "(aarr == barr)"
   ]
  },
  {
   "cell_type": "code",
   "execution_count": 139,
   "id": "c6cd5fdf-2889-450c-ab89-8f26d2f95ca7",
   "metadata": {},
   "outputs": [
    {
     "data": {
      "text/plain": [
       "array([[False,  True, False,  True,  True, False,  True],\n",
       "       [False, False, False,  True, False, False,  True]])"
      ]
     },
     "execution_count": 139,
     "metadata": {},
     "output_type": "execute_result"
    }
   ],
   "source": [
    "(aarr <= barr)"
   ]
  },
  {
   "cell_type": "markdown",
   "id": "0fbc8420-40d1-4a6c-a83b-337c554e27b0",
   "metadata": {},
   "source": [
    "these were element wise comparision"
   ]
  },
  {
   "cell_type": "code",
   "execution_count": 140,
   "id": "ebfb586f-62ab-4f9d-a8df-31748f45ddc8",
   "metadata": {},
   "outputs": [
    {
     "data": {
      "text/plain": [
       "array([[False, False, False, False, False, False, False],\n",
       "       [False, False, False, False, False,  True,  True]])"
      ]
     },
     "execution_count": 140,
     "metadata": {},
     "output_type": "execute_result"
    }
   ],
   "source": [
    "# these are logical operations like logic gates & and, | or, ~ not\n",
    "# and = &\n",
    "# or = |\n",
    "# bot = ~\n",
    "(aarr > 4) & (barr > 8)"
   ]
  },
  {
   "cell_type": "code",
   "execution_count": 141,
   "id": "b4fc11fa-1e1a-48fa-b145-2b6949165a4f",
   "metadata": {},
   "outputs": [
    {
     "data": {
      "text/plain": [
       "array([[ True, False,  True,  True,  True,  True,  True],\n",
       "       [ True,  True,  True,  True,  True,  True,  True]])"
      ]
     },
     "execution_count": 141,
     "metadata": {},
     "output_type": "execute_result"
    }
   ],
   "source": [
    "(aarr >1 ) | (barr > 3)"
   ]
  },
  {
   "cell_type": "code",
   "execution_count": 142,
   "id": "a544a35c-3103-4958-9a39-84f6da243b93",
   "metadata": {},
   "outputs": [
    {
     "data": {
      "text/plain": [
       "array([[ True, False,  True, False, False,  True, False],\n",
       "       [ True,  True,  True, False,  True,  True, False]])"
      ]
     },
     "execution_count": 142,
     "metadata": {},
     "output_type": "execute_result"
    }
   ],
   "source": [
    "(~(aarr < barr))"
   ]
  },
  {
   "cell_type": "code",
   "execution_count": 12,
   "id": "fd925a45-e15a-465f-82d7-ff97939e9081",
   "metadata": {},
   "outputs": [
    {
     "data": {
      "text/plain": [
       "array([[False, False, False, False, False,  True,  True],\n",
       "       [ True,  True, False, False,  True,  True, False]])"
      ]
     },
     "execution_count": 12,
     "metadata": {},
     "output_type": "execute_result"
    }
   ],
   "source": [
    "(aarr<barr)"
   ]
  },
  {
   "cell_type": "code",
   "execution_count": 143,
   "id": "3a1c71ad-28cc-43ad-aa32-02ff84e10eb0",
   "metadata": {},
   "outputs": [
    {
     "data": {
      "text/plain": [
       "array([[ 3,  0,  4,  0,  0,  2,  4],\n",
       "       [ 2,  3,  3,  3,  3, 12,  7]])"
      ]
     },
     "execution_count": 143,
     "metadata": {},
     "output_type": "execute_result"
    }
   ],
   "source": [
    "np.where(aarr<barr, aarr, barr)"
   ]
  },
  {
   "cell_type": "markdown",
   "id": "720f69ce-b3cb-4691-9632-d0f0d3910003",
   "metadata": {},
   "source": [
    "np dot where is a function which takes a condition and the two arrays and does the operation and returns which element either aij or bij satisfies it,\n",
    "in this example the smaller number was supposed to be found between the two arrays\n",
    "\n",
    "and we can also return a new value if the condition is not meant say if we want all failed students who failed get marked F rather than showing their numbers so we will run the function \n",
    "np.where(array<less than passing marks, 'f', array),see below"
   ]
  },
  {
   "cell_type": "code",
   "execution_count": 156,
   "id": "1a068e74-c7f3-40ca-8090-d5170983a561",
   "metadata": {},
   "outputs": [
    {
     "data": {
      "text/plain": [
       "array([[ 1,  1, 13,  1,  1,  7,  1],\n",
       "       [10,  7,  7,  1, 12, 13,  7]])"
      ]
     },
     "execution_count": 156,
     "metadata": {},
     "output_type": "execute_result"
    }
   ],
   "source": [
    "np.where(aarr< 5,  True, aarr)"
   ]
  },
  {
   "cell_type": "code",
   "execution_count": 19,
   "id": "bb1211bb-43dd-4443-b943-f6a5304153e3",
   "metadata": {},
   "outputs": [
    {
     "data": {
      "text/plain": [
       "array([[12,  8],\n",
       "       [10,  5],\n",
       "       [ 0,  3],\n",
       "       [ 5,  6],\n",
       "       [13,  2],\n",
       "       [13, 13],\n",
       "       [ 2, 11]])"
      ]
     },
     "execution_count": 19,
     "metadata": {},
     "output_type": "execute_result"
    }
   ],
   "source": [
    "aarr.reshape(7,2)"
   ]
  },
  {
   "cell_type": "code",
   "execution_count": 23,
   "id": "c6511abd-63ff-4d37-951c-9cd6f85a7657",
   "metadata": {},
   "outputs": [
    {
     "data": {
      "text/plain": [
       "array([12,  8, 10,  5,  0,  3,  5,  6, 13,  2, 13, 13,  2, 11])"
      ]
     },
     "execution_count": 23,
     "metadata": {},
     "output_type": "execute_result"
    }
   ],
   "source": [
    "aarr.flatten()"
   ]
  },
  {
   "cell_type": "code",
   "execution_count": 157,
   "id": "bee48cf1-0114-4f65-a899-4d3bb220e6c7",
   "metadata": {},
   "outputs": [
    {
     "data": {
      "text/plain": [
       "array([[ 4, 10],\n",
       "       [ 0,  7],\n",
       "       [13,  7],\n",
       "       [ 0,  3],\n",
       "       [ 0, 12],\n",
       "       [ 7, 13],\n",
       "       [ 4,  7]])"
      ]
     },
     "execution_count": 157,
     "metadata": {},
     "output_type": "execute_result"
    }
   ],
   "source": [
    "aarr.T    "
   ]
  },
  {
   "cell_type": "code",
   "execution_count": 158,
   "id": "e96df8e8-7bf5-4efb-b75d-d0586a26c816",
   "metadata": {},
   "outputs": [
    {
     "data": {
      "text/plain": [
       "array([[ 4, 10],\n",
       "       [ 0,  7],\n",
       "       [13,  7],\n",
       "       [ 0,  3],\n",
       "       [ 0, 12],\n",
       "       [ 7, 13],\n",
       "       [ 4,  7]])"
      ]
     },
     "execution_count": 158,
     "metadata": {},
     "output_type": "execute_result"
    }
   ],
   "source": [
    "np.transpose(aarr)"
   ]
  },
  {
   "cell_type": "code",
   "execution_count": 25,
   "id": "8d248033-697b-41d4-9cf8-2e5ba84ccb44",
   "metadata": {},
   "outputs": [
    {
     "data": {
      "text/plain": [
       "array([[12,  8, 10,  5,  0,  3,  5],\n",
       "       [ 6, 13,  2, 13, 13,  2, 11]])"
      ]
     },
     "execution_count": 25,
     "metadata": {},
     "output_type": "execute_result"
    }
   ],
   "source": [
    "aarr.reshape(2,7)"
   ]
  },
  {
   "cell_type": "code",
   "execution_count": 27,
   "id": "05ac02a6-ef27-4e6e-adef-6cb26972a881",
   "metadata": {},
   "outputs": [],
   "source": [
    "rearr = np.random.randint(40, size = (5,8))"
   ]
  },
  {
   "cell_type": "code",
   "execution_count": 28,
   "id": "77347384-0799-4f81-80e3-9bbd5267cdef",
   "metadata": {},
   "outputs": [
    {
     "data": {
      "text/plain": [
       "array([[29,  4, 11, 14,  5, 12, 35, 34],\n",
       "       [ 0, 19,  2,  3, 17, 13,  7, 18],\n",
       "       [26, 20,  2, 28, 27,  5, 28, 12],\n",
       "       [12,  6, 38, 17,  1,  3,  6,  6],\n",
       "       [ 0,  2,  3, 18,  4, 22, 20, 13]])"
      ]
     },
     "execution_count": 28,
     "metadata": {},
     "output_type": "execute_result"
    }
   ],
   "source": [
    "rearr"
   ]
  },
  {
   "cell_type": "code",
   "execution_count": 29,
   "id": "723127f9-f6d3-412e-b6a5-818662e3a6cd",
   "metadata": {},
   "outputs": [
    {
     "data": {
      "text/plain": [
       "array([[29,  4],\n",
       "       [11, 14],\n",
       "       [ 5, 12],\n",
       "       [35, 34],\n",
       "       [ 0, 19],\n",
       "       [ 2,  3],\n",
       "       [17, 13],\n",
       "       [ 7, 18],\n",
       "       [26, 20],\n",
       "       [ 2, 28],\n",
       "       [27,  5],\n",
       "       [28, 12],\n",
       "       [12,  6],\n",
       "       [38, 17],\n",
       "       [ 1,  3],\n",
       "       [ 6,  6],\n",
       "       [ 0,  2],\n",
       "       [ 3, 18],\n",
       "       [ 4, 22],\n",
       "       [20, 13]])"
      ]
     },
     "execution_count": 29,
     "metadata": {},
     "output_type": "execute_result"
    }
   ],
   "source": [
    "rearr.reshape(20,2)"
   ]
  },
  {
   "cell_type": "code",
   "execution_count": 30,
   "id": "f4c9941c-40a1-4fa4-be52-d630b9489f06",
   "metadata": {},
   "outputs": [
    {
     "data": {
      "text/plain": [
       "array([[29,  4, 11, 14],\n",
       "       [ 5, 12, 35, 34],\n",
       "       [ 0, 19,  2,  3],\n",
       "       [17, 13,  7, 18],\n",
       "       [26, 20,  2, 28],\n",
       "       [27,  5, 28, 12],\n",
       "       [12,  6, 38, 17],\n",
       "       [ 1,  3,  6,  6],\n",
       "       [ 0,  2,  3, 18],\n",
       "       [ 4, 22, 20, 13]])"
      ]
     },
     "execution_count": 30,
     "metadata": {},
     "output_type": "execute_result"
    }
   ],
   "source": [
    "rearr.reshape(10,4)"
   ]
  },
  {
   "cell_type": "code",
   "execution_count": 32,
   "id": "3e2f5133-e2b0-4b72-a174-ebf2434b4f17",
   "metadata": {},
   "outputs": [
    {
     "data": {
      "text/plain": [
       "array([29,  4, 11, 14,  5, 12, 35, 34,  0, 19,  2,  3, 17, 13,  7, 18, 26,\n",
       "       20,  2, 28])"
      ]
     },
     "execution_count": 32,
     "metadata": {},
     "output_type": "execute_result"
    }
   ],
   "source": [
    "np.resize(rearr, 20)"
   ]
  },
  {
   "cell_type": "code",
   "execution_count": null,
   "id": "77c5bb25-0de8-4b41-82f1-17d89cb05a12",
   "metadata": {},
   "outputs": [],
   "source": [
    "# np.resize instead of changing the shape changes the size, say here we 40 elements and then we resized it to 20 so it took the first 20 elements and returned us that\n",
    "# and np.newaxis gives it another axis, it can be used to change a row vector into column vector and vise versa, here rearr was 2d and then we passed the function as name of array, \n",
    "# at which postion we want the new axis in then np.name of the array\n",
    "# another way of getting a new dimension is np.expand_dims()"
   ]
  },
  {
   "cell_type": "code",
   "execution_count": 33,
   "id": "8521f35b-3327-4276-a1aa-2865d93daca1",
   "metadata": {},
   "outputs": [
    {
     "data": {
      "text/plain": [
       "array([[[29,  4, 11, 14,  5, 12, 35, 34]],\n",
       "\n",
       "       [[ 0, 19,  2,  3, 17, 13,  7, 18]],\n",
       "\n",
       "       [[26, 20,  2, 28, 27,  5, 28, 12]],\n",
       "\n",
       "       [[12,  6, 38, 17,  1,  3,  6,  6]],\n",
       "\n",
       "       [[ 0,  2,  3, 18,  4, 22, 20, 13]]])"
      ]
     },
     "execution_count": 33,
     "metadata": {},
     "output_type": "execute_result"
    }
   ],
   "source": [
    "rearr[:, np.newaxis]"
   ]
  },
  {
   "cell_type": "code",
   "execution_count": 159,
   "id": "14f05b52-a5ce-4ddd-9c37-31fe6e0265d9",
   "metadata": {},
   "outputs": [
    {
     "data": {
      "text/plain": [
       "array([[ 4,  0, 13,  0,  0,  7,  4,  3,  3,  4,  9,  6,  2,  9],\n",
       "       [10,  7,  7,  3, 12, 13,  7,  2,  3,  3, 12,  3, 12, 13]])"
      ]
     },
     "execution_count": 159,
     "metadata": {},
     "output_type": "execute_result"
    }
   ],
   "source": [
    "np.hstack((aarr, barr))"
   ]
  },
  {
   "cell_type": "code",
   "execution_count": 160,
   "id": "17749e99-2ff2-4521-8763-4ff91cd6449c",
   "metadata": {},
   "outputs": [
    {
     "data": {
      "text/plain": [
       "array([[ 4,  0, 13,  0,  0,  7,  4],\n",
       "       [10,  7,  7,  3, 12, 13,  7],\n",
       "       [ 3,  3,  4,  9,  6,  2,  9],\n",
       "       [ 2,  3,  3, 12,  3, 12, 13]])"
      ]
     },
     "execution_count": 160,
     "metadata": {},
     "output_type": "execute_result"
    }
   ],
   "source": [
    "np.vstack((aarr,barr))"
   ]
  },
  {
   "cell_type": "code",
   "execution_count": null,
   "id": "617150f5-15fc-4312-a944-1d29e7b3c115",
   "metadata": {},
   "outputs": [],
   "source": [
    "# np.hstack and vstack joins two arrays horizontally and vertically as the name suggest and concatenate is that but with additional arguments like which axis to join them to and so on"
   ]
  },
  {
   "cell_type": "code",
   "execution_count": 161,
   "id": "7eaf7ee8-6b79-4d0a-98c8-4bbf4d0fb169",
   "metadata": {},
   "outputs": [
    {
     "data": {
      "text/plain": [
       "array([[ 4,  0, 13,  0,  0,  7,  4],\n",
       "       [10,  7,  7,  3, 12, 13,  7],\n",
       "       [ 3,  3,  4,  9,  6,  2,  9],\n",
       "       [ 2,  3,  3, 12,  3, 12, 13]])"
      ]
     },
     "execution_count": 161,
     "metadata": {},
     "output_type": "execute_result"
    }
   ],
   "source": [
    "np.concatenate((aarr, barr), axis = 0)"
   ]
  },
  {
   "cell_type": "code",
   "execution_count": 162,
   "id": "5c5eec92-acf5-422a-a5e5-5b514cf8a2d7",
   "metadata": {},
   "outputs": [
    {
     "data": {
      "text/plain": [
       "array([[ 4,  0, 13,  0,  0,  7,  4,  3,  3,  4,  9,  6,  2,  9],\n",
       "       [10,  7,  7,  3, 12, 13,  7,  2,  3,  3, 12,  3, 12, 13]])"
      ]
     },
     "execution_count": 162,
     "metadata": {},
     "output_type": "execute_result"
    }
   ],
   "source": [
    "np.concatenate((aarr, barr), axis = 1)"
   ]
  },
  {
   "cell_type": "code",
   "execution_count": 43,
   "id": "c06c4b05-31ac-41d9-aac0-6e3f450cca9b",
   "metadata": {},
   "outputs": [
    {
     "data": {
      "text/plain": [
       "[array([[12,  8, 10,  5,  0,  3,  5]]), array([[ 6, 13,  2, 13, 13,  2, 11]])]"
      ]
     },
     "execution_count": 43,
     "metadata": {},
     "output_type": "execute_result"
    }
   ],
   "source": [
    "np.split(aarr,2)"
   ]
  },
  {
   "cell_type": "code",
   "execution_count": null,
   "id": "2b71b49d-858a-46ab-8919-e2616179c5da",
   "metadata": {},
   "outputs": [],
   "source": [
    "# np.split splits an array into equal parts of the said number when given to the argument 'indices' and if it can not an error is raised, np.array_split is advanced it splits the array into the sub array even\n",
    "# if has to give uneven or empty arrays and both the funtion can have the parameter axis along which the split must be made"
   ]
  },
  {
   "cell_type": "code",
   "execution_count": 167,
   "id": "d3a7b85b-2c2c-41c8-9e65-66090d3e2592",
   "metadata": {},
   "outputs": [
    {
     "data": {
      "text/plain": [
       "[array([[ 4,  0, 13,  0,  0,  7,  4]]),\n",
       " array([[10,  7,  7,  3, 12, 13,  7]]),\n",
       " array([], shape=(0, 7), dtype=int32),\n",
       " array([], shape=(0, 7), dtype=int32),\n",
       " array([], shape=(0, 7), dtype=int32),\n",
       " array([], shape=(0, 7), dtype=int32),\n",
       " array([], shape=(0, 7), dtype=int32)]"
      ]
     },
     "execution_count": 167,
     "metadata": {},
     "output_type": "execute_result"
    }
   ],
   "source": [
    "np.array_split(aarr, 7.3)"
   ]
  },
  {
   "cell_type": "code",
   "execution_count": 168,
   "id": "d09c2379-8537-47c7-91f5-362656f84a28",
   "metadata": {},
   "outputs": [
    {
     "data": {
      "text/plain": [
       "array([[ 4,  0, 13,  0,  0,  7,  4],\n",
       "       [10,  7,  7,  3, 12, 13,  7]])"
      ]
     },
     "execution_count": 168,
     "metadata": {},
     "output_type": "execute_result"
    }
   ],
   "source": [
    "aarr"
   ]
  },
  {
   "cell_type": "code",
   "execution_count": 169,
   "id": "63914a8e-f3cf-4618-bf9b-80c42272769d",
   "metadata": {},
   "outputs": [
    {
     "data": {
      "text/plain": [
       "array([[ 0,  0,  0,  4,  4,  7, 13],\n",
       "       [ 3,  7,  7,  7, 10, 12, 13]])"
      ]
     },
     "execution_count": 169,
     "metadata": {},
     "output_type": "execute_result"
    }
   ],
   "source": [
    "np.sort(aarr)"
   ]
  },
  {
   "cell_type": "code",
   "execution_count": 175,
   "id": "dc4b69ac-f3f8-4f2c-8f41-0c2d196fd290",
   "metadata": {},
   "outputs": [
    {
     "data": {
      "text/plain": [
       "array([[ 4,  0,  7,  0,  0,  7,  4],\n",
       "       [10,  7, 13,  3, 12, 13,  7]])"
      ]
     },
     "execution_count": 175,
     "metadata": {},
     "output_type": "execute_result"
    }
   ],
   "source": [
    "np.sort(aarr, axis = 0, kind = 'quick')"
   ]
  },
  {
   "cell_type": "code",
   "execution_count": null,
   "id": "52ff6fa0-644a-4600-a455-189383770f6e",
   "metadata": {},
   "outputs": [],
   "source": [
    "# well, it sorts the array, and axis , type of sorting can be chosen by the user such as bubble or merge sort, ascending descending and so"
   ]
  },
  {
   "cell_type": "markdown",
   "id": "24667b09-af08-4f34-90b7-f19fcdf75f5c",
   "metadata": {},
   "source": [
    "as of now the syntax and api should have been clear but here is the summary\n",
    "\n",
    "\n",
    "np . function (array, parameters required by the function to do the calulation)\n",
    "\n",
    "\n",
    "ways to make multi dimensional arrays are\n",
    "mannual method\n",
    "creating random intgers or just ones and zeros using np.ones/ np.zeros and then choosing the size\n",
    "the size parameter takes a tuple which as (dimensions, rows, columns)\n",
    "np.full just duplicates the array that many times\n",
    "\n",
    "will add more methods if i can remember them later on"
   ]
  },
  {
   "cell_type": "code",
   "execution_count": null,
   "id": "ac9fb7cc-4712-488b-82ea-1ad2499c7640",
   "metadata": {},
   "outputs": [],
   "source": []
  }
 ],
 "metadata": {
  "kernelspec": {
   "display_name": "Python 3 (ipykernel)",
   "language": "python",
   "name": "python3"
  },
  "language_info": {
   "codemirror_mode": {
    "name": "ipython",
    "version": 3
   },
   "file_extension": ".py",
   "mimetype": "text/x-python",
   "name": "python",
   "nbconvert_exporter": "python",
   "pygments_lexer": "ipython3",
   "version": "3.12.4"
  }
 },
 "nbformat": 4,
 "nbformat_minor": 5
}
